{
 "cells": [
  {
   "cell_type": "code",
   "execution_count": 3,
   "id": "848b9eaa",
   "metadata": {},
   "outputs": [
    {
     "ename": "ModuleNotFoundError",
     "evalue": "No module named 'cv2'",
     "output_type": "error",
     "traceback": [
      "\u001b[1;31m---------------------------------------------------------------------------\u001b[0m",
      "\u001b[1;31mModuleNotFoundError\u001b[0m                       Traceback (most recent call last)",
      "\u001b[1;32mc:\\Users\\prakashpc\\Desktop\\8-BIT\\Mode1(Working)\\Model\\Team 8-BIT final.ipynb Cell 1\u001b[0m in \u001b[0;36m<cell line: 2>\u001b[1;34m()\u001b[0m\n\u001b[0;32m      <a href='vscode-notebook-cell:/c%3A/Users/prakashpc/Desktop/8-BIT/Mode1%28Working%29/Model/Team%208-BIT%20final.ipynb#W0sZmlsZQ%3D%3D?line=0'>1</a>\u001b[0m \u001b[39mimport\u001b[39;00m \u001b[39mos\u001b[39;00m\n\u001b[1;32m----> <a href='vscode-notebook-cell:/c%3A/Users/prakashpc/Desktop/8-BIT/Mode1%28Working%29/Model/Team%208-BIT%20final.ipynb#W0sZmlsZQ%3D%3D?line=1'>2</a>\u001b[0m \u001b[39mimport\u001b[39;00m \u001b[39mcv2\u001b[39;00m\n\u001b[0;32m      <a href='vscode-notebook-cell:/c%3A/Users/prakashpc/Desktop/8-BIT/Mode1%28Working%29/Model/Team%208-BIT%20final.ipynb#W0sZmlsZQ%3D%3D?line=2'>3</a>\u001b[0m \u001b[39mimport\u001b[39;00m \u001b[39mnumpy\u001b[39;00m \u001b[39mas\u001b[39;00m \u001b[39mnp\u001b[39;00m\n\u001b[0;32m      <a href='vscode-notebook-cell:/c%3A/Users/prakashpc/Desktop/8-BIT/Mode1%28Working%29/Model/Team%208-BIT%20final.ipynb#W0sZmlsZQ%3D%3D?line=4'>5</a>\u001b[0m path\u001b[39m=\u001b[39m\u001b[39mr\u001b[39m\u001b[39m\"\u001b[39m\u001b[39mC:/Users/prakashpc/Desktop/8-BIT/Mode1(Working)/Images/img1.jpeg\u001b[39m\u001b[39m\"\u001b[39m\n",
      "\u001b[1;31mModuleNotFoundError\u001b[0m: No module named 'cv2'"
     ]
    }
   ],
   "source": [
    "import os\n",
    "import cv2\n",
    "import numpy as np\n",
    "\n",
    "path=r\"C:/Users/prakashpc/Desktop/8-BIT/Mode1(Working)/Images/img1.jpeg\"\n",
    "image = cv2.imread(path)\n",
    "#image=cv2.copyMakeBorder(image,0,0,2,2,3)\n",
    "hsv = cv2.cvtColor(image, cv2.COLOR_BGR2HSV)\n",
    "lower_green = np.array([100, 43, 20])\n",
    "upper_green = np.array([130, 255, 255])\n",
    "mask = cv2.inRange(hsv, lower_green, upper_green)\n",
    "res = cv2.bitwise_and(image, image, mask=mask)\n",
    "\n",
    "gray = cv2.cvtColor(res,cv2.COLOR_BGR2GRAY)\n",
    "ret, generator = cv2.threshold(gray, 1,255,cv2.THRESH_BINARY)\n",
    "cv2.imshow(\"\",generator)\n",
    "cv2.waitKey(5000)\n",
    "cv2.destroyAllWindows()\n",
    "\n",
    "directory=r'C:/Users/prakashpc/Desktop/8-BIT/Mode1(Working)/Model/sih5'\n",
    "os.chdir(directory)\n",
    "cv2.imwrite(\"new_image.jpg\",generator)"
   ]
  },
  {
   "cell_type": "code",
   "execution_count": null,
   "id": "71743add",
   "metadata": {},
   "outputs": [],
   "source": [
    "from PIL import Image\n",
    "path=r'C:/Users/prakashpc/Desktop/8-BIT/Mode1(Working)/Model/sih5/new_image.jpg'\n",
    "img_read= cv2.imread(path)"
   ]
  },
  {
   "cell_type": "code",
   "execution_count": null,
   "id": "803ac4ba",
   "metadata": {},
   "outputs": [],
   "source": [
    "img = cv2.resize(img_read,(700,500))\n",
    "# Convert the image to gray scale\n",
    "gray = cv2.cvtColor(img, cv2.COLOR_BGR2GRAY)\n",
    "cv2.imshow(\"gray_converted\",gray)\n",
    "cv2.waitKey(5000)\n",
    "cv2.destroyAllWindows()"
   ]
  },
  {
   "cell_type": "code",
   "execution_count": 2,
   "id": "c76c696b",
   "metadata": {},
   "outputs": [
    {
     "ename": "ModuleNotFoundError",
     "evalue": "No module named 'matplotlib'",
     "output_type": "error",
     "traceback": [
      "\u001b[1;31m---------------------------------------------------------------------------\u001b[0m",
      "\u001b[1;31mModuleNotFoundError\u001b[0m                       Traceback (most recent call last)",
      "\u001b[1;32mc:\\Users\\prakashpc\\Desktop\\8-BIT\\Mode1(Working)\\Model\\Team 8-BIT final.ipynb Cell 4\u001b[0m in \u001b[0;36m<cell line: 1>\u001b[1;34m()\u001b[0m\n\u001b[1;32m----> <a href='vscode-notebook-cell:/c%3A/Users/prakashpc/Desktop/8-BIT/Mode1%28Working%29/Model/Team%208-BIT%20final.ipynb#W3sZmlsZQ%3D%3D?line=0'>1</a>\u001b[0m \u001b[39mimport\u001b[39;00m \u001b[39mmatplotlib\u001b[39;00m\n\u001b[0;32m      <a href='vscode-notebook-cell:/c%3A/Users/prakashpc/Desktop/8-BIT/Mode1%28Working%29/Model/Team%208-BIT%20final.ipynb#W3sZmlsZQ%3D%3D?line=1'>2</a>\u001b[0m \u001b[39mimport\u001b[39;00m \u001b[39mmatplotlib\u001b[39;00m\u001b[39m.\u001b[39;00m\u001b[39mpyplot\u001b[39;00m \u001b[39mas\u001b[39;00m \u001b[39mplt\u001b[39;00m\n\u001b[0;32m      <a href='vscode-notebook-cell:/c%3A/Users/prakashpc/Desktop/8-BIT/Mode1%28Working%29/Model/Team%208-BIT%20final.ipynb#W3sZmlsZQ%3D%3D?line=3'>4</a>\u001b[0m \u001b[39mfrom\u001b[39;00m \u001b[39mskimage\u001b[39;00m\u001b[39m.\u001b[39;00m\u001b[39mdata\u001b[39;00m \u001b[39mimport\u001b[39;00m page\n",
      "\u001b[1;31mModuleNotFoundError\u001b[0m: No module named 'matplotlib'"
     ]
    }
   ],
   "source": [
    "import matplotlib\n",
    "import matplotlib.pyplot as plt\n",
    "\n",
    "from skimage.data import page\n",
    "from skimage.filters import (threshold_otsu, threshold_niblack,threshold_sauvola)\n",
    "\n",
    "#image = page()\n",
    "binary_global = gray > threshold_otsu(img)\n",
    "\n",
    "window_size = 25\n",
    "thresh_niblack = threshold_niblack(gray, window_size=window_size, k=0.8)\n",
    "thresh_sauvola = threshold_sauvola(gray, window_size=window_size)\n",
    "\n",
    "binary_niblack = gray > thresh_niblack\n",
    "binary_sauvola = gray > thresh_sauvola\n",
    "\n",
    "plt.figure(figsize=(8, 7))\n",
    "plt.subplot(2, 2, 1)\n",
    "plt.imshow(img, cmap=plt.cm.gray)\n",
    "plt.title('Original')\n",
    "plt.axis('off')\n",
    "\n",
    "plt.subplot(2, 2, 2)\n",
    "plt.title('Global Threshold')\n",
    "plt.imshow(binary_global, cmap=plt.cm.gray)\n",
    "plt.axis('off')\n",
    "\n",
    "plt.subplot(2, 2, 3)\n",
    "plt.imshow(binary_niblack, cmap=plt.cm.gray)\n",
    "plt.title('Niblack Threshold')\n",
    "plt.axis('off')\n",
    "\n",
    "plt.subplot(2, 2, 4)\n",
    "plt.imshow(binary_sauvola, cmap=plt.cm.gray)\n",
    "plt.title('Sauvola Threshold')\n",
    "plt.axis('off')\n",
    "\n",
    "plt.show()\n",
    "from skimage import img_as_ubyte\n",
    "thresh_sauvola = img_as_ubyte(binary_sauvola)"
   ]
  },
  {
   "cell_type": "code",
   "execution_count": 27,
   "id": "d61209fa",
   "metadata": {},
   "outputs": [],
   "source": [
    "cv2.imshow(\"sauvola\",thresh_sauvola)\n",
    "cv2.waitKey(5000)\n",
    "cv2.destroyAllWindows()"
   ]
  },
  {
   "cell_type": "code",
   "execution_count": 29,
   "id": "0a447120",
   "metadata": {},
   "outputs": [],
   "source": [
    "#ret,thresh1=cv2.threshold(thresh_sauvola,0,255, cv2.THRESH_BINARY_INV)\n",
    "thresh1=thresh_sauvola\n",
    "# Performing Adaptve threshloding (OTSU threshold)\n",
    "ret, thresh1 = cv2.threshold(thresh1,0,255,cv2.THRESH_OTSU | cv2.THRESH_BINARY) # second parameter is threshold (try for 80)\n",
    "cv2.imshow(\"Binary Image\",thresh1)\n",
    "cv2.waitKey(5000)\n",
    "cv2.destroyAllWindows()"
   ]
  },
  {
   "cell_type": "code",
   "execution_count": 30,
   "id": "e71a34fb",
   "metadata": {},
   "outputs": [],
   "source": [
    "kernel = np.ones((3, 4), np.uint8)\n",
    "img_dilation = cv2.dilate(thresh1, kernel, iterations=1)\n",
    "cv2.imshow('Dialation', img_dilation)\n",
    "cv2.waitKey(5000)\n",
    "cv2.destroyAllWindows()"
   ]
  },
  {
   "cell_type": "code",
   "execution_count": 31,
   "id": "48697756",
   "metadata": {},
   "outputs": [
    {
     "data": {
      "text/plain": [
       "True"
      ]
     },
     "execution_count": 31,
     "metadata": {},
     "output_type": "execute_result"
    }
   ],
   "source": [
    "path = 'C:/Users/prakashpc/Desktop/8-BIT/Mode1(Working)/Model/sih3'\n",
    "cv2.imwrite(os.path.join(path , 'img70.jpeg'), img_dilation)\n",
    "# cv2.waitKey(0)"
   ]
  },
  {
   "cell_type": "code",
   "execution_count": 32,
   "id": "ae3ed8b1",
   "metadata": {},
   "outputs": [],
   "source": [
    "# Import required packages\n",
    "# If not installed then install using : pip install pytesseract\n",
    "\n",
    "import pytesseract\n",
    "import matplotlib.pyplot as plt\n",
    "\n",
    "# Mention the installed location of Tesseract-OCR in your system\n",
    "# If not installed then run the tesseract-ocr-w64-setup.exe and then mention the location\n",
    "\n",
    "pytesseract.pytesseract.tesseract_cmd = 'C:\\\\Program Files\\\\Tesseract-OCR\\\\tesseract.exe'"
   ]
  },
  {
   "cell_type": "code",
   "execution_count": 33,
   "id": "344b5397",
   "metadata": {},
   "outputs": [
    {
     "name": "stdout",
     "output_type": "stream",
     "text": [
      "-----------------------------\n",
      "एनिवे“व्शि अपे नाम च्दव्ते-\n",
      "क्रम में \"लिखे (आज )\n",
      "\n",
      "82. महात्मा जांशी\n",
      "\n",
      "“- मोहम्मद जिना\n",
      "\n",
      "3. पंडित नेल्छ\n",
      "\n",
      "४- ज्ञब्धुत कन्मम्ता\n",
      "\n"
     ]
    }
   ],
   "source": [
    "import pytesseract as pt\n",
    "def main(): \n",
    "\n",
    "    path =\"C:/Users/prakashpc/Desktop/8-BIT/Mode1(Working)/Model/sih3\"\n",
    "\n",
    "    # path for the folder for getting the output \n",
    "    tempPath =\"C:/Users/prakashpc/Desktop/8-BIT/Mode1(Working)/Model/output\"\n",
    "  \n",
    "    for imageName in os.listdir(path): \n",
    "        print (\"-----------------------------\")\n",
    "              \n",
    "        inputPath = os.path.join(path, imageName) \n",
    "        img = Image.open(inputPath) \n",
    "  \n",
    "        text = pt.image_to_string(img, lang =\"hin\") \n",
    "\n",
    "        imageName = imageName[0:-4] \n",
    "  \n",
    "        fullTempPath = os.path.join(tempPath, imageName+\".txt\") \n",
    "        print(text) \n",
    "  \n",
    "        file1 = open(fullTempPath, \"w\", encoding='utf-8') \n",
    "        file1.write(text) \n",
    "        file1.close()  \n",
    "  \n",
    "if __name__ == '__main__': \n",
    "    main() "
   ]
  },
  {
   "cell_type": "code",
   "execution_count": null,
   "id": "48826185",
   "metadata": {},
   "outputs": [],
   "source": []
  }
 ],
 "metadata": {
  "kernelspec": {
   "display_name": "Python 3.10.7 64-bit (microsoft store)",
   "language": "python",
   "name": "python3"
  },
  "language_info": {
   "codemirror_mode": {
    "name": "ipython",
    "version": 3
   },
   "file_extension": ".py",
   "mimetype": "text/x-python",
   "name": "python",
   "nbconvert_exporter": "python",
   "pygments_lexer": "ipython3",
   "version": "3.10.7"
  },
  "vscode": {
   "interpreter": {
    "hash": "27e84e735bdf5d14384f0d4fc4ccae0a605d73bca92eed9935a64ceec3d59bdd"
   }
  }
 },
 "nbformat": 4,
 "nbformat_minor": 5
}
